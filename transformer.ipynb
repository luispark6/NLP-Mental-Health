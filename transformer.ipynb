{
 "cells": [
  {
   "cell_type": "code",
   "execution_count": 18,
   "id": "bca86dc3-6a8c-46f6-a249-4a7fdcb4acee",
   "metadata": {
    "tags": []
   },
   "outputs": [
    {
     "name": "stdout",
     "output_type": "stream",
     "text": [
      "{'I': 2, 'to': 3, 'and': 4, 'the': 5, 'that': 6, 'is': 7, 'of': 8, 'in': 9, 'you': 10, 'are': 11, 'feelings': 12, 'my': 13, 'do': 14, \"I'm\": 15, 'how': 16, 'be': 17, \"I've\": 18, 'but': 19, 'never': 20, 'can': 21, 'worthless': 22, 'some': 23, 'your': 24, 'with': 25, 'out': 26, 'which': 27, 'a': 28, 'thought': 29, 'change': 30, 'on': 31, 'they': 32, 'have': 33, 'good': 34, 'thoughts,': 35, 'this': 36, 'not': 37, 'for': 38, 'about': 39, 'The': 40, 'things': 41, 'think': 42, 'here.': 43, 'tried': 44, 'or': 45, 'feeling': 46, 'sleep': 47, 'going': 48, 'find': 49, 'their': 50, 'it': 51, 'through': 52, 'myself.': 53, 'barely': 54, 'nothing': 55, \"shouldn't\": 56, 'contemplated': 57, 'suicide.': 58, 'always': 59, 'wanted': 60, 'fix': 61, 'issues,': 62, 'get': 63, 'around': 64, 'it.': 65, 'How': 66, 'being': 67, 'everyone?': 68, 'our': 69, 'there': 70, 'You': 71, 'so': 72, 'may': 73, 'we': 74, 'feel': 75, 'right': 76, 'what': 77, 'depression': 78, 'need': 79, 'an': 80, 'new': 81, 'help': 82, 'like': 83, 'thoughts': 84, 'people': 85, 'someone': 86, '-': 87, 'It': 88, 'who': 89, 'if': 90, 'these': 91, 'more': 92, 'than': 93, 'one': 94, 'This': 95, 'self': 96, 'has': 97, 'sounds': 98, 'would': 99, 'therapy': 100, 'CBT': 101, 'helps': 102, 'depression.': 103, 'Depression': 104, 'from': 105, 'at': 106, 'also': 107, 'want': 108, 'make': 109, 'sure': 110, 'help.': 111, 'by': 112, 'as': 113, 'physical': 114, 'us': 115, 'work': 116, 'everyone': 117, 'thinking': 118, 'then': 119, 'life': 120, 'There': 121, 'might': 122, 'worthless,': 123, 'way': 124, 'helpful': 125, 'yourself.': 126, 'reach': 127, 'person': 128, 'down': 129, 'What': 130, 'positive': 131, 'time': 132, 'If': 133, 'go': 134, 'important': 135, 'yourself': 136, 'suicidal': 137, 'therapist': 138, 'back': 139, 'mental': 140, 'should': 141, 'able': 142, 'first': 143, 'big': 144, 'just': 145, 'recommend': 146, 'talk': 147, 'many': 148, 'great': 149, 'even': 150, 'you.': 151, 'better': 152, 'very': 153, 'difficult': 154, 'part': 155, 'will': 156, 'know': 157, 'other': 158, 'worthlessness.': 159, 'step': 160, 'relationship': 161, 'life.': 162, 'worthlessness': 163, 'when': 164, 'focus': 165, 'because': 166, 'worthless.': 167, 'am': 168, \"you're\": 169, 'start': 170, 'specific': 171, 'something': 172, 'perhaps': 173, 'over': 174, 'take': 175, 'them': 176, 'well': 177, \"don't\": 178, 'try': 179, 'When': 180, 'come': 181, 'hope': 182, 'process': 183, 'up': 184, 'point': 185, 'way.': 186, 'ourselves': 187, 'In': 188, 'issues': 189, 'been': 190, 'any': 191, 'this.': 192, 'me': 193, 'see': 194, 'most': 195, 'all': 196, 'figure': 197, 'where': 198, 'others': 199, 'concerns': 200, 'long': 201, 'history': 202, 'I’m': 203, 'I’ve': 204, 'too': 205, 'address': 206, 'begin': 207, 'impact': 208, 'skills': 209, 'past': 210, 'present': 211, 'sexual': 212, 'abuse,': 213, 'breast': 214, 'cancer': 215, 'beginning': 216, 'low': 217, 'esteem': 218, 'had': 219, 'counseling': 220, 'lot': 221, 'years.': 222, 'counselor': 223, 'times': 224, 'such': 225, 'symptoms': 226, 'situations': 227, 'address.': 228, 'survivor': 229, 'lifetime': 230, 'insomniac.': 231, 'anxiety.': 232, 'happily': 233, 'married': 234, 'almost': 235, '35': 236, 'Do': 237, 'counseling?': 238, 'plan': 239, 'could': 240, 'getting': 241, 'believe': 242, 'fact,': 243, 'seeking': 244, 'counseling,': 245, 'hard': 246, 'into': 247, 'call': 248, 'health': 249, 'time.': 250, 'A': 251, 'learn': 252, 'cope': 253, 'much': 254, 'experience': 255, 'working': 256, 'Best': 257, 'trauma': 258, 'clients': 259, 'lives': 260, 'look': 261, 'issue': 262, 'no': 263, 'counseling.': 264, 'Many': 265, 'often': 266, 'few': 267, 'thing': 268, 'Therapy': 269, 'them,': 270, 'them.': 271, 'order': 272, 'best': 273, 'say': 274, 'live': 275, 'manage': 276, 'having': 277, 'Absolutely': 278, 'Your': 279, 'ways': 280, 'each': 281, 'several': 282, 'encourage': 283, 'Sometimes': 284, 'control': 285, 'particular': 286, 'own': 287, 'does': 288, 'though': 289, 'needs': 290, 'professional': 291, 'day': 292, 'understand': 293, 'anxiety,': 294, 'not.': 295, 'definitely': 296, 'depression,': 297, 'anxiety': 298, 'seek': 299, 'reaching': 300, 'making': 301, 'first.': 302, 'For': 303, 'example,': 304, 'list': 305, 'support': 306, 'traumatic': 307, '\"I': 308, 'place': 309, 'issues.': 310, 'Then': 311, 'addressed': 312, 'Most': 313, 'without': 314, 'answer': 315, 'quite': 316, 'use': 317, 'significant': 318, 'overwhelmed': 319, 'continue': 320, 'trying': 321, 'bring': 322, 'emotions': 323, 'Counseling': 324, 'We': 325, 'away': 326, 'toward': 327, 'goals.': 328, 'multiple': 329, 'same': 330, 'client': 331, 'not!': 332, 'causing': 333, 'suggest': 334, 'abuse': 335, 'build': 336, 'area': 337, 'coping': 338, 'identify': 339, 'Once': 340, 'goals': 341, 'whether': 342, 'therapy.': 343, 'lead': 344, 'emotional': 345, \"you've\": 346, 'well.': 347, 'prioritize': 348, 'areas': 349, 'internal': 350, 'now.': 351, 'treatment': 352, 'deserve': 353, 'likely': 354, 'move': 355, '\"too': 356, 'question': 357, 'strength': 358, 'type': 359, 'healing': 360, 'starting': 361, \"I'd\": 362, 'worked': 363, 'These': 364, 'symptoms.': 365, 'connected.': 366, 'actually': 367, 'give': 368, 'dealing': 369, 'now': 370, 'therapeutic': 371, 'therapy,': 372, 'glad': 373, 'possible': 374, \"it's\": 375, 'experienced': 376, 'But': 377, 'absolutely': 378, 'Please': 379, 'ask': 380, 'situation': 381, 'looking': 382, 'ones': 383, 'together': 384, 'pressing': 385, 'pace': 386, 'doing': 387, 'discuss': 388, 'Not': 389, 'only': 390, 'sleep.': 391, 'trust': 392, 'Often': 393, 'topics': 394, 'once': 395, 'They': 396, 'really': 397, \"isn't\": 398, 'since': 399, 'become': 400, 'life,': 401, 'comes': 402, 'panic': 403, 'mind': 404, 'write': 405, 'while': 406, 'on.': 407, 'off': 408, 'reduce': 409, 'facing': 410, 'severe': 411, 'lot.': 412, 'distracts': 413, 'cant': 414, 'bothering': 415, 'me.': 416, 'overcome': 417, 'anxierty': 418, 'depression?': 419, 'common': 420, 'negative': 421, 'worry': 422, 'let': 423, 'trauma,': 424, 'brain': 425, 'assist': 426, 'happy': 427, 'meditation': 428, 'practice': 429, 'sense': 430, 'Anxiety': 431, 'symptom': 432, 'sorry': 433, 'due': 434, 'feel.': 435, 'different': 436, 'allow': 437, 'whatever': 438, 'act': 439, 'feels': 440, 'healthy': 441, 'improve': 442, 'open': 443, 'easy': 444, 'struggling': 445, 'decide': 446, ',': 447, 'those': 448, 'My': 449, 'explore': 450, 'handle': 451, 'within': 452, 'moment': 453, 'idea': 454, 'sleeping': 455, 'two': 456, 'related': 457, 'felt': 458, 'day.': 459, 'consider': 460, 'notice': 461, 'before': 462, \"It's\": 463, 'inside': 464, 'chronic': 465, 'means': 466, 'pain': 467, 'cause': 468, 'natural': 469, 'deal': 470, 'result': 471, 'awareness': 472, 'doctor': 473, 'listen': 474, 'were': 475, 'primary': 476, 'local': 477, 'words': 478, 'physician': 479, \"won't\": 480, 'you,': 481, 'overwhelmed.': 482, 'based': 483, 'problem': 484, 'major': 485, 'problems': 486, 'esteem.': 487, 'this,': 488, 'rule': 489, 'medical': 490, 'care': 491, 'maybe': 492, 'wife': 493, 'was': 494, 'early': 495, 'used': 496, 'reason': 497, 'erection,': 498, 'similar': 499, 'during': 500, 'known': 501, 'Now': 502, 'apart': 503, 'marriage.': 504, 'cannot': 505, 'express': 506, 'it?': 507, 'normal': 508, 'certainly': 509, 'alone.': 510, 'forward': 511, 'already': 512, 'caused': 513, 'loss': 514, 'years': 515, 'ago': 516, 'love': 517, 'lost': 518, '30s': 519, 'frequent.': 520, 'ego': 521, 'diminishing': 522, 'resulted': 523, 'ongoing': 524, 'tearing': 525, 'devastated': 526, 'attracted': 527, 'bedroom': 528, 'to.': 529, 'again': 530, 'number': 531, 'out.': 532, 'set': 533, 'causes': 534, 'case': 535, 'men': 536, 'little': 537, 'issue,': 538, 'time,': 539, 'outside': 540, 'intimacy': 541, 'amazing': 542, 'generally': 543, 'understanding': 544, 'struggle': 545, 'pretty': 546, 'month.': 547, 'lack': 548, 'contributing': 549, 'ready': 550, 'changes': 551, 'next': 552, 'body': 553, \"doesn't\": 554, 'energy': 555, 'takes': 556, 'whole': 557, 'intense': 558, 'mood': 559, 'highs': 560, 'lows': 561, 'dark': 562, 'outlook': 563, 'balanced': 564, 'life?': 565, 'why': 566, 'swings': 567, 'As': 568, 'pain.': 569, 'medication': 570, 'throughout': 571, 'energetic': 572, 'focus,': 573, 'energy,': 574, 'living': 575, 'hormonal': 576, 'taking': 577, 'influence': 578, 'cycle': 579, 'effects': 580, 'anyone': 581, 'research': 582, 'better.': 583, 'another': 584, 'behavior': 585}\n",
      "tensor([-0.3156, -1.6006, -0.6120,  2.2860, -1.5039,  0.4343,  2.2365, -1.1154,\n",
      "         2.8599,  1.9770, -0.6094, -0.4991, -1.1724,  1.1033,  0.7778, -0.9378,\n",
      "        -1.7616,  0.7905,  0.3753,  0.3964, -0.1820,  0.4403,  1.5512, -0.3941,\n",
      "         0.3050,  0.3628, -0.3021, -0.1019, -0.3420,  0.3081,  0.8020,  0.2249,\n",
      "         1.8731, -1.4247, -0.6094, -0.3284,  0.6729, -0.3771, -0.4615,  0.1513,\n",
      "         0.1155,  1.7498,  1.5085, -0.9044, -1.3142,  0.3005, -1.0747,  1.7163,\n",
      "        -0.3107, -0.7557,  0.9453, -0.2776, -0.7360,  0.9223, -1.0980, -1.8236,\n",
      "        -0.3535,  1.6464, -0.6826,  0.0778, -0.5421, -0.3312,  1.6674, -0.5891,\n",
      "        -1.8353, -1.5515,  0.6684,  0.6346,  0.8659,  0.1948,  0.6650,  0.6090,\n",
      "         0.0421, -0.9157, -0.7937,  0.1100, -0.4822, -0.0822, -1.2967,  0.2717,\n",
      "        -0.8447,  0.4285,  0.4587, -1.6312,  1.5715, -0.0614, -0.0248,  1.4613,\n",
      "        -0.2493, -0.5492, -0.6738, -0.1331, -0.1685,  1.0556, -1.2171,  1.0258,\n",
      "        -0.7952, -1.0754, -0.1238, -1.9799,  0.1526, -0.8209,  0.9883, -0.0257,\n",
      "        -0.2758, -0.7390, -1.4239,  1.6192,  0.6102, -0.6748, -0.9839, -0.9160,\n",
      "         1.1191, -0.3376,  1.1877,  0.6521,  0.0678,  1.4610, -1.3270,  1.3824,\n",
      "        -0.2576,  0.7170,  0.1918,  0.6245, -0.5274,  0.0692, -0.3858,  0.9644,\n",
      "        -0.6150,  1.7352, -0.7942,  0.9737, -0.0474,  1.2267,  0.0040, -1.3506,\n",
      "        -0.9015,  0.7055, -0.4379,  2.0658,  0.5377,  0.5483,  0.0274, -1.2874,\n",
      "         0.8039,  0.3169, -0.1530, -0.1228, -0.3599,  0.3913,  0.6460, -1.9384,\n",
      "        -0.9912, -0.4227, -0.0270, -0.9903, -0.2102,  0.7368, -0.8518, -1.1892,\n",
      "         0.8198, -2.5591, -1.6558, -0.6459, -0.9872, -0.8313, -0.3943, -0.5779,\n",
      "        -0.4349,  1.4936,  0.9421,  0.8114, -1.6782,  0.3474, -0.6146,  1.6387,\n",
      "        -0.3479, -0.0196, -0.1561, -0.1806, -1.9006,  0.3176,  0.6958,  1.1343,\n",
      "         0.6433, -1.1598, -0.3326,  0.9577,  1.3935, -0.6111, -0.6461, -0.9419,\n",
      "         1.6382,  0.1215, -0.1742,  0.0689,  0.6681,  1.3067, -0.8161, -0.1137,\n",
      "         0.2318,  0.0460, -0.3186,  0.3371, -0.4201,  0.3599,  0.8773,  1.6666,\n",
      "        -0.1309,  1.1761,  0.0147,  0.9352, -0.2735, -0.4523,  0.3368, -0.2900,\n",
      "         0.1054, -0.2300, -0.4198,  0.2888,  0.8675,  1.0100,  0.6050, -2.2443,\n",
      "         1.6252,  1.3255, -0.7323,  1.2014,  0.5024, -0.5733, -2.0912, -1.0998,\n",
      "        -0.6165,  1.0598, -0.6540, -0.7750, -0.6172, -0.7364, -0.9883, -0.4630,\n",
      "        -0.5572, -1.2680,  1.0474,  0.1623,  0.0886, -0.4409,  0.2551, -0.0629,\n",
      "         0.5664,  0.3120,  0.9648,  0.4386])\n"
     ]
    }
   ],
   "source": [
    "import torch\n",
    "import numpy as np\n",
    "import torch.nn as nn\n",
    "import math\n",
    "import os\n",
    "import pandas as pd\n",
    "import torch.optim as optim\n",
    "import torch.nn.functional as F\n",
    "import json\n",
    "\n",
    "tokens = json.load(open(\"tokens.txt\"))\n",
    "model = torch.load(\"embedding_model\")\n",
    "print(tokens)\n",
    "print(model['embeddings.weight'][1])"
   ]
  }
 ],
 "metadata": {
  "kernelspec": {
   "display_name": "Python 3 (ipykernel)",
   "language": "python",
   "name": "python3"
  },
  "language_info": {
   "codemirror_mode": {
    "name": "ipython",
    "version": 3
   },
   "file_extension": ".py",
   "mimetype": "text/x-python",
   "name": "python",
   "nbconvert_exporter": "python",
   "pygments_lexer": "ipython3",
   "version": "3.11.5"
  }
 },
 "nbformat": 4,
 "nbformat_minor": 5
}

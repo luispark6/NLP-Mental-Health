{
 "cells": [
  {
   "cell_type": "code",
   "execution_count": 1,
   "id": "283a825a-8448-4e96-bb54-dfca2cd19aa8",
   "metadata": {
    "tags": []
   },
   "outputs": [],
   "source": [
    "import torch\n",
    "import numpy as np\n",
    "import torch.nn as nn\n",
    "import math\n",
    "import os\n",
    "import pandas as pd\n",
    "import torch.optim as optim\n",
    "import torch.nn.functional as F\n",
    "import json"
   ]
  },
  {
   "cell_type": "code",
   "execution_count": 2,
   "id": "e0fdea83-0b8e-4c0b-9507-b5ef6d1ae91e",
   "metadata": {
    "tags": []
   },
   "outputs": [],
   "source": [
    "class NGramLanguageModeler(nn.Module):\n",
    "\n",
    "    def __init__(self, vocab_size, embedding_dim, context_size):\n",
    "        super(NGramLanguageModeler, self).__init__()\n",
    "        #does not pass all input words with eachother. Each word goes through independantly\n",
    "        #and the output are the embeddings of the word. We want this because we do not \n",
    "        #want to concacenate the embeddings to the output nodes.\n",
    "        self.embedding_dim = embedding_dim\n",
    "        self.embeddings = nn.Embedding(vocab_size, embedding_dim) \n",
    "        #now takes in all embeddings of each word stretched out\n",
    "        self.linear1 = nn.Linear(context_size * embedding_dim, 128)\n",
    "        self.linear2 = nn.Linear(128, vocab_size)\n",
    "        self.tokens = {}\n",
    "\n",
    "    def forward(self, inputs):\n",
    "        #embeds will be flattened matrix\n",
    "        embeds = self.embeddings(inputs).view((1, -1))\n",
    "        #rectified relu to learn embeddings\n",
    "        out = F.relu(self.linear1(embeds))\n",
    "        out = self.linear2(out)\n",
    "        log_probs = F.log_softmax(out, dim=1)\n",
    "        #output is the log probablities of all vocabulary\n",
    "        return log_probs\n",
    "    def multiply_embedding_weights(self):\n",
    "        # Multiply the weights of the embedding layer by sqrt(embedding_dim)\n",
    "        self.embeddings.weight.data = self.embeddings.weight.data * (self.embedding_dim ** 0.5)\n",
    "    \n"
   ]
  },
  {
   "cell_type": "code",
   "execution_count": 10,
   "id": "63bfd991-fc29-40b4-9c10-531edb2081aa",
   "metadata": {
    "tags": []
   },
   "outputs": [
    {
     "name": "stdout",
     "output_type": "stream",
     "text": [
      "Dataset size: 3512\n",
      "Train Dataset size: 1000\n",
      "Total Dictionary Size: 10,489\n",
      "Training Dictionary Size: 4604\n",
      "Epoch: 0\n",
      "Total_Loss: 56342.04386663437\n",
      "Epoch: 1\n",
      "Total_Loss: 42983.08613824844\n",
      "Epoch: 2\n",
      "Total_Loss: 37955.3470826149\n",
      "Epoch: 3\n",
      "Total_Loss: 33246.89584133029\n",
      "Epoch: 4\n",
      "Total_Loss: 28087.54450033605\n",
      "Epoch: 5\n",
      "Total_Loss: 22368.62250051927\n",
      "Epoch: 6\n",
      "Total_Loss: 16794.43489205395\n",
      "Epoch: 7\n",
      "Total_Loss: 12269.065608597943\n",
      "Epoch: 8\n",
      "Total_Loss: 8835.163093342111\n",
      "Epoch: 9\n",
      "Total_Loss: 6255.332387675873\n"
     ]
    }
   ],
   "source": [
    "#file path to credit card csv file\n",
    "file_path = os.path.join(os.path.expanduser(\"~\"), \"Downloads\", \"mental_health.csv\")\n",
    "orig_dataset = pd.read_csv(file_path) #read csv file as pandas object\n",
    "orig_dataset = orig_dataset.to_numpy()\n",
    "print(\"Dataset size: \"+ str(len(orig_dataset)))\n",
    "dataset = orig_dataset[np.random.choice(orig_dataset.shape[0], size=1000, replace=True)]\n",
    "print(\"Train Dataset size: \"+ str(len(dataset)))\n",
    "minFreq = {} #word must appear n times to be added to dictionary\n",
    "dictionary = {} #relevant words in the dicationary\n",
    "index = 5\n",
    "for example in range(len(dataset)):\n",
    "    for cont_response in range(2):\n",
    "        if type(dataset[example][cont_response]) == float: #NaN values\n",
    "            continue\n",
    "        for word in dataset[example][cont_response].split():\n",
    "            if word not in minFreq:\n",
    "                minFreq[word]=1\n",
    "            else:\n",
    "                if minFreq[word]==3: #word needs to appear\n",
    "                    dictionary[word] = index\n",
    "                    index+=1\n",
    "                minFreq[word]+=1\n",
    "\n",
    "print( \"Total Dictionary Size: 10,489\")\n",
    "print(\"Training Dictionary Size: \" + str(index))\n",
    "\n",
    "CONTEXT_SIZE = 3 #look 3 words back to predict current word\n",
    "EMBEDDING_DIM = 252 #total embeddings for each word\n",
    "all_ngrams = [] #ngram setup -> [(['through', 'going', \"I'm\"], 'some')]\n",
    "for example in range(len(dataset)): \n",
    "    for cont_response in range(2): #context than response\n",
    "        if type(dataset[example][cont_response]) == float: #NaN values\n",
    "            continue\n",
    "        cur_Sentence = dataset[example][cont_response].split() #seperate by word\n",
    "        ngrams = [ #[(['through', 'going', \"I'm\"], 'some')]\n",
    "            ([cur_Sentence[i - j - 1] for j in range(CONTEXT_SIZE)],cur_Sentence[i])\n",
    "            for i in range(CONTEXT_SIZE, len(cur_Sentence))\n",
    "            ]\n",
    "        #append the grams to all_ngrams\n",
    "        for i in ngrams:\n",
    "            all_ngrams.append(i) \n",
    "loss_function = nn.NLLLoss() #loss layer\n",
    "model = NGramLanguageModeler(index, EMBEDDING_DIM, CONTEXT_SIZE) #intialize Ngram model\n",
    "optimizer = optim.Adam(model.parameters(), lr=0.0001)\n",
    "model.tokens = dictionary\n",
    "for epoch in range(10):\n",
    "    total_loss = 0\n",
    "    print(\"Epoch: \"+ str(epoch))\n",
    "    maxFreq = 3 #max number of times a word can be trained\n",
    "    #dictionary to keep track of times word is trained. Will skip if words have been trained maxFreq times\n",
    "    maxFreqDict = {}\n",
    "    for context, target in all_ngrams:\n",
    "        #if unknown word, just don't train\n",
    "        if context[0] not in dictionary or context[1] not in dictionary or context[2] not in dictionary:\n",
    "                continue\n",
    "        if target not in dictionary:\n",
    "                continue\n",
    "        #add context words if not found in dict\n",
    "        if context[0] not in maxFreqDict:\n",
    "            maxFreqDict[context[0]] = 1\n",
    "        if context[1] not in maxFreqDict:\n",
    "            maxFreqDict[context[1]] = 1\n",
    "        #if both words have been trained equal to or more than maxFreq times, continue\n",
    "        #already has been trained enough\n",
    "        if maxFreqDict[context[0]] >= maxFreq and maxFreqDict[context[1]] >= maxFreq:\n",
    "            continue\n",
    "        #update how many times the context words have been trained\n",
    "        maxFreqDict[context[0]]+=1\n",
    "        maxFreqDict[context[1]]+=1\n",
    "            \n",
    "        #turn each word to an integer and wrapped in tensor so pass as an input to the model\n",
    "        context_idxs = torch.tensor([dictionary[w] for w in context], dtype=torch.long)\n",
    "\n",
    "        #zero out gradients cause it accumulates\n",
    "        model.zero_grad()\n",
    "\n",
    "        # Step 3. Run the forward pass, getting log probabilities over next\n",
    "        # words\n",
    "        log_probs = model(context_idxs)\n",
    "        \n",
    "        \n",
    "            \n",
    "\n",
    "        #apply the loss function to the log probabilties with the correct target word\n",
    "        loss = loss_function(log_probs, torch.tensor([dictionary[target]], dtype=torch.long))\n",
    "\n",
    "        # Step 5. Do the backward pass and update the gradient\n",
    "        loss.backward()\n",
    "        optimizer.step()\n",
    "        # Get the Python number from a 1-element Tensor by calling tensor.item()\n",
    "        total_loss += loss.item()\n",
    "    print(f\"Total_Loss: {total_loss}\")\n",
    "\n",
    "\n",
    "\n"
   ]
  },
  {
   "cell_type": "code",
   "execution_count": 11,
   "id": "87bdd6f4-bc7f-44b2-8dd7-218d78a5437e",
   "metadata": {
    "tags": []
   },
   "outputs": [],
   "source": [
    "model.multiply_embedding_weights()\n",
    "torch.save(model.state_dict(), \"embedding_model\")"
   ]
  },
  {
   "cell_type": "code",
   "execution_count": 12,
   "id": "f3d7463e-6ccc-4042-ae90-636c10dcaec6",
   "metadata": {
    "tags": []
   },
   "outputs": [
    {
     "name": "stdout",
     "output_type": "stream",
     "text": [
      "tensor([[-1.6403e+01, -2.2735e+01, -2.1164e+01,  5.8273e+00,  5.6551e+00,\n",
      "         -1.5379e+00,  5.3738e+00,  2.4534e+01, -5.0908e+00, -1.7610e+01,\n",
      "         -1.8514e+01,  8.4802e+00,  2.2451e+01,  1.9748e+01,  1.3594e+01,\n",
      "          6.6184e+00,  2.4457e+01,  8.0630e-01,  8.2192e+00,  2.6643e+00,\n",
      "          1.1523e+01, -2.0244e+01,  4.5972e+00, -1.1502e+01, -5.5115e+00,\n",
      "         -1.4130e+01, -2.3028e+01, -1.0373e+01, -1.8744e+01,  1.8807e+01,\n",
      "         -5.2076e+00,  6.8448e+00,  1.7240e+01, -1.7000e+01,  9.7014e+00,\n",
      "         -3.3178e+00,  1.9624e+00, -4.9475e+00, -1.9516e+00, -1.2596e+01,\n",
      "          8.8329e-01, -2.8267e+01,  1.4416e+01, -8.7044e+00,  2.2062e+01,\n",
      "          1.5048e+01, -1.5954e+01,  1.9669e+01,  7.0843e+00,  2.4808e+01,\n",
      "         -1.3514e+00,  1.4838e+01, -1.8360e+01, -1.4118e+00,  1.9605e+01,\n",
      "         -4.1483e+00, -1.0679e+01,  1.6667e+01,  2.4555e+00, -6.4730e+00,\n",
      "         -1.1791e+01,  1.1143e+01, -2.2355e+01,  2.1362e+01,  1.4150e+01,\n",
      "         -7.0579e+00,  6.5157e+00, -5.2537e+00,  8.4056e+00, -4.3702e+00,\n",
      "          9.0489e+00,  2.8186e+00, -1.1986e+01,  2.4823e+01, -3.5481e+00,\n",
      "          1.4070e+01,  3.2537e+01, -2.2463e+01, -4.1677e-01, -1.0751e+01,\n",
      "         -7.2936e+00, -1.4566e+01, -2.1609e+01, -2.1007e+01, -5.5785e+00,\n",
      "          1.9955e+00,  1.1259e+01,  8.2319e+00, -1.5149e+00,  7.6779e+00,\n",
      "          2.4397e+01, -7.1749e+00,  2.2394e+01,  3.2005e+01,  6.6408e+00,\n",
      "         -3.5417e+01,  4.7710e+00, -9.3920e+00,  1.0281e+01,  2.4933e+01,\n",
      "         -8.1518e+00,  3.1402e+01, -2.0876e+01, -2.0872e+01, -1.5502e+00,\n",
      "          2.2510e+01,  8.2780e-01,  4.2033e+00, -9.7888e+00, -4.4236e-01,\n",
      "         -1.5555e+01, -1.5483e+01, -1.4360e+01, -2.4353e+01, -6.1060e+00,\n",
      "          3.9833e+01,  2.1056e+01, -1.2589e+01, -1.4180e+01,  5.2715e+00,\n",
      "         -4.4621e+01, -4.1627e+00, -1.6540e+01, -8.9987e+00, -1.4715e+01,\n",
      "          7.8840e+00, -5.0455e+00,  7.3873e-01, -2.2372e+01, -1.1054e+00,\n",
      "          1.4543e+01,  5.1192e+01,  2.2920e+01, -3.3165e+01, -1.2978e+01,\n",
      "         -2.7923e+01, -2.1309e+01, -3.8949e+00,  2.6422e+01,  4.3715e-01,\n",
      "          6.5616e-01, -2.7408e+01, -1.5142e+01, -6.2578e+00, -1.2011e-02,\n",
      "          1.9793e+01, -3.6654e+01,  7.6894e+00,  1.1593e+01, -1.4373e+01,\n",
      "          3.6925e+01, -1.9932e+01, -2.1566e+01,  6.7262e+00, -3.8616e+01,\n",
      "         -2.0564e+01,  1.3041e+01,  9.2720e+00, -9.9288e+00, -8.4839e+00,\n",
      "         -9.1327e+00, -5.8121e+00,  1.7229e+01,  2.7863e+00,  1.0753e+00,\n",
      "          4.1620e+00, -2.1574e+01, -9.3760e-01, -2.1757e+01, -7.1512e+00,\n",
      "         -2.0533e+01, -4.1582e-01,  1.7961e+01, -3.9935e+00,  3.6955e+00,\n",
      "         -1.1670e+01,  9.7942e+00,  1.6591e+01,  5.8802e+00,  9.3424e+00,\n",
      "          1.1786e+01,  1.2523e+01,  7.8111e+00, -2.7806e+01,  3.0264e+01,\n",
      "          1.5120e+00, -1.8505e+00,  3.7866e+00, -2.9610e+01,  5.4103e-01,\n",
      "          7.1170e+00,  1.5387e+01, -1.1330e+01,  1.4345e+01,  5.4137e+00,\n",
      "         -1.3969e+01, -1.1819e+01,  3.9724e+00, -1.9804e+01, -3.7212e+00,\n",
      "         -9.9730e+00, -2.4223e+01,  7.4239e+00, -2.9723e+01, -6.1869e+00,\n",
      "          7.0027e+00, -3.8500e+01,  9.8639e+00,  2.8988e+00,  2.7051e+00,\n",
      "         -5.1057e+00,  1.6465e+01,  1.0552e+01,  2.8523e+00,  1.4744e+01,\n",
      "         -1.3214e+01, -1.4990e+01,  6.8235e+00,  1.0943e+01,  3.9510e+00,\n",
      "         -2.2609e+01, -1.6152e+01,  4.7086e+00,  1.6148e+01,  1.3680e+01,\n",
      "         -1.6160e+01,  5.3966e+00, -2.4027e+01, -1.1887e+01, -1.1530e+01,\n",
      "          2.7683e+01, -2.8028e+00,  1.6536e+01, -1.7947e+01, -8.1561e+00,\n",
      "         -1.4401e+01, -4.3960e+00,  6.4529e+00,  3.8914e+01,  6.8710e+00,\n",
      "          6.7586e+00,  4.9811e+00,  2.0466e+01, -1.1718e+01, -1.0656e+01,\n",
      "         -6.9961e+00,  1.9132e+01, -2.6188e+01, -1.1977e+01, -1.8128e+01,\n",
      "         -3.9029e-01,  1.1818e+01]], grad_fn=<EmbeddingBackward0>)\n"
     ]
    }
   ],
   "source": [
    "print(model.embeddings(torch.tensor([0])))"
   ]
  },
  {
   "cell_type": "code",
   "execution_count": 13,
   "id": "665631ae-ced6-46e4-98f6-fd8a159109f1",
   "metadata": {
    "tags": []
   },
   "outputs": [],
   "source": [
    "json.dump(model.tokens, open(\"tokens.txt\",'w'))"
   ]
  },
  {
   "cell_type": "code",
   "execution_count": 42,
   "id": "86d4e476-c226-4b98-8e6e-f09f02ca27d4",
   "metadata": {
    "tags": []
   },
   "outputs": [
    {
     "name": "stdout",
     "output_type": "stream",
     "text": [
      "55.18080865603645\n",
      "177.001993166287\n"
     ]
    }
   ],
   "source": [
    "import torch\n",
    "import numpy as np\n",
    "import torch.nn as nn\n",
    "import math\n",
    "import os\n",
    "import pandas as pd\n",
    "import torch.optim as optim\n",
    "import torch.nn.functional as F\n",
    "import json\n",
    "\n",
    "\n",
    "avg_res = 0\n",
    "avg_cont = 0\n",
    "t =0\n",
    "\n",
    "#file path to credit card csv file\n",
    "file_path = os.path.join(os.path.expanduser(\"~\"), \"Downloads\", \"mental_health.csv\")\n",
    "orig_dataset = pd.read_csv(file_path) #read csv file as pandas object\n",
    "orig_dataset =  orig_dataset.to_numpy()\n",
    "orig_dataset = orig_dataset.tolist()\n",
    "for example in orig_dataset:\n",
    "    acc =0 \n",
    "    for r_c in example:\n",
    "        if type(r_c) is float:\n",
    "            continue\n",
    "        if acc ==0: \n",
    "            avg_cont+=len(r_c.split())\n",
    "        else:\n",
    "            avg_res+=len(r_c.split())\n",
    "        acc+=1\n",
    "    t+=1\n",
    "print(avg_cont/t)\n",
    "print(avg_res/t)"
   ]
  },
  {
   "cell_type": "code",
   "execution_count": null,
   "id": "9d106792-36c6-4c23-8c79-439adabcf3d3",
   "metadata": {},
   "outputs": [],
   "source": []
  }
 ],
 "metadata": {
  "kernelspec": {
   "display_name": "Python 3 (ipykernel)",
   "language": "python",
   "name": "python3"
  },
  "language_info": {
   "codemirror_mode": {
    "name": "ipython",
    "version": 3
   },
   "file_extension": ".py",
   "mimetype": "text/x-python",
   "name": "python",
   "nbconvert_exporter": "python",
   "pygments_lexer": "ipython3",
   "version": "3.11.5"
  }
 },
 "nbformat": 4,
 "nbformat_minor": 5
}

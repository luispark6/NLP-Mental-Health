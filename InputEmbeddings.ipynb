{
 "cells": [
  {
   "cell_type": "code",
   "execution_count": 2,
   "id": "283a825a-8448-4e96-bb54-dfca2cd19aa8",
   "metadata": {
    "tags": []
   },
   "outputs": [],
   "source": [
    "import torch\n",
    "import numpy as np\n",
    "import torch.nn as nn\n",
    "import math\n",
    "import os\n",
    "import pandas as pd\n",
    "import torch.optim as optim\n",
    "import torch.nn.functional as F\n",
    "import json"
   ]
  },
  {
   "cell_type": "code",
   "execution_count": 3,
   "id": "e0fdea83-0b8e-4c0b-9507-b5ef6d1ae91e",
   "metadata": {
    "tags": []
   },
   "outputs": [],
   "source": [
    "class NGramLanguageModeler(nn.Module):\n",
    "\n",
    "    def __init__(self, vocab_size, embedding_dim, context_size):\n",
    "        super(NGramLanguageModeler, self).__init__()\n",
    "        #does not pass all input words with eachother. Each word goes through independantly\n",
    "        #and the output are the embeddings of the word. We want this because we do not \n",
    "        #want to concacenate the embeddings to the output nodes.\n",
    "        self.embeddings = nn.Embedding(vocab_size, embedding_dim) \n",
    "        #now takes in all embeddings of each word stretched out\n",
    "        self.linear1 = nn.Linear(context_size * embedding_dim, 128)\n",
    "        self.linear2 = nn.Linear(128, vocab_size)\n",
    "        self.tokens = {}\n",
    "\n",
    "    def forward(self, inputs):\n",
    "        #embeds will be flattened matrix\n",
    "        embeds = self.embeddings(inputs).view((1, -1))\n",
    "        #rectified relu to learn embeddings\n",
    "        out = F.relu(self.linear1(embeds))\n",
    "        out = self.linear2(out)\n",
    "        log_probs = F.log_softmax(out, dim=1)\n",
    "        #output is the log probablities of all vocabulary\n",
    "        return log_probs\n",
    "\n",
    "    \n"
   ]
  },
  {
   "cell_type": "code",
   "execution_count": 4,
   "id": "63bfd991-fc29-40b4-9c10-531edb2081aa",
   "metadata": {
    "tags": []
   },
   "outputs": [
    {
     "name": "stdout",
     "output_type": "stream",
     "text": [
      "Dataset size: 3512\n",
      "Train Dataset size: 100\n",
      "Total Dictionary Size: 10,489\n",
      "Training Dictionary Size: 586\n",
      "Epoch: 0\n",
      "Total_Loss: 5896.734264612198\n",
      "Epoch: 1\n",
      "Total_Loss: 4402.660709857941\n",
      "Epoch: 2\n",
      "Total_Loss: 3560.378431379795\n",
      "Epoch: 3\n",
      "Total_Loss: 2984.954965353012\n",
      "Epoch: 4\n",
      "Total_Loss: 2452.747850239277\n",
      "Epoch: 5\n",
      "Total_Loss: 1923.3361112773418\n",
      "Epoch: 6\n",
      "Total_Loss: 1413.2404913902283\n",
      "Epoch: 7\n",
      "Total_Loss: 969.5563013330102\n",
      "Epoch: 8\n",
      "Total_Loss: 626.8774465024471\n",
      "Epoch: 9\n",
      "Total_Loss: 390.8301209397614\n"
     ]
    }
   ],
   "source": [
    "#file path to credit card csv file\n",
    "file_path = os.path.join(os.path.expanduser(\"~\"), \"Downloads\", \"mental_health.csv\")\n",
    "orig_dataset = pd.read_csv(file_path) #read csv file as pandas object\n",
    "orig_dataset = orig_dataset.to_numpy()\n",
    "print(\"Dataset size: \"+ str(len(orig_dataset)))\n",
    "dataset = orig_dataset[0:100] #use part of the dataset\n",
    "print(\"Train Dataset size: \"+ str(len(dataset)))\n",
    "minFreq = {} #word must appear n times to be added to dictionary\n",
    "dictionary = {} #relevant words in the dicationary\n",
    "index = 3\n",
    "for example in range(len(dataset)):\n",
    "    for cont_response in range(2):\n",
    "        if type(dataset[example][cont_response]) == float: #NaN values\n",
    "            continue\n",
    "        for word in dataset[example][cont_response].split():\n",
    "            if word not in minFreq:\n",
    "                minFreq[word]=1\n",
    "            else:\n",
    "                if minFreq[word]==3: #word needs to appear\n",
    "                    dictionary[word] = index\n",
    "                    index+=1\n",
    "                minFreq[word]+=1\n",
    "\n",
    "print( \"Total Dictionary Size: 10,489\")\n",
    "print(\"Training Dictionary Size: \" + str(index))\n",
    "\n",
    "CONTEXT_SIZE = 3 #look 3 words back to predict current word\n",
    "EMBEDDING_DIM = 252 #total embeddings for each word\n",
    "all_ngrams = [] #ngram setup -> [(['through', 'going', \"I'm\"], 'some')]\n",
    "for example in range(len(dataset)): \n",
    "    for cont_response in range(2): #context than response\n",
    "        if type(dataset[example][cont_response]) == float: #NaN values\n",
    "            continue\n",
    "        cur_Sentence = dataset[example][cont_response].split() #seperate by word\n",
    "        ngrams = [ #[(['through', 'going', \"I'm\"], 'some')]\n",
    "            ([cur_Sentence[i - j - 1] for j in range(CONTEXT_SIZE)],cur_Sentence[i])\n",
    "            for i in range(CONTEXT_SIZE, len(cur_Sentence))\n",
    "            ]\n",
    "        #append the grams to all_ngrams\n",
    "        for i in ngrams:\n",
    "            all_ngrams.append(i) \n",
    "loss_function = nn.NLLLoss() #loss layer\n",
    "model = NGramLanguageModeler(index, EMBEDDING_DIM, CONTEXT_SIZE) #intialize Ngram model\n",
    "optimizer = optim.Adam(model.parameters(), lr=0.0001)\n",
    "model.tokens = dictionary\n",
    "for epoch in range(10):\n",
    "    total_loss = 0\n",
    "    print(\"Epoch: \"+ str(epoch))\n",
    "    maxFreq = 3 #max number of times a word can be trained\n",
    "    #dictionary to keep track of times word is trained. Will skip if words have been trained maxFreq times\n",
    "    maxFreqDict = {}\n",
    "    for context, target in all_ngrams:\n",
    "        #if unknown word, just don't train\n",
    "        if context[0] not in dictionary or context[1] not in dictionary or context[2] not in dictionary:\n",
    "                continue\n",
    "        if target not in dictionary:\n",
    "                continue\n",
    "        #add context words if not found in dict\n",
    "        if context[0] not in maxFreqDict:\n",
    "            maxFreqDict[context[0]] = 1\n",
    "        if context[1] not in maxFreqDict:\n",
    "            maxFreqDict[context[1]] = 1\n",
    "        #if both words have been trained equal to or more than maxFreq times, continue\n",
    "        #already has been trained enough\n",
    "        if maxFreqDict[context[0]] >= maxFreq and maxFreqDict[context[1]] >= maxFreq:\n",
    "            continue\n",
    "        #update how many times the context words have been trained\n",
    "        maxFreqDict[context[0]]+=1\n",
    "        maxFreqDict[context[1]]+=1\n",
    "            \n",
    "        #turn each word to an integer and wrapped in tensor so pass as an input to the model\n",
    "        context_idxs = torch.tensor([dictionary[w] for w in context], dtype=torch.long)\n",
    "\n",
    "        #zero out gradients cause it accumulates\n",
    "        model.zero_grad()\n",
    "\n",
    "        # Step 3. Run the forward pass, getting log probabilities over next\n",
    "        # words\n",
    "        log_probs = model(context_idxs)\n",
    "        \n",
    "        \n",
    "            \n",
    "\n",
    "        #apply the loss function to the log probabilties with the correct target word\n",
    "        loss = loss_function(log_probs, torch.tensor([dictionary[target]], dtype=torch.long))\n",
    "\n",
    "        # Step 5. Do the backward pass and update the gradient\n",
    "        loss.backward()\n",
    "        optimizer.step()\n",
    "        # Get the Python number from a 1-element Tensor by calling tensor.item()\n",
    "        total_loss += loss.item()\n",
    "    print(f\"Total_Loss: {total_loss}\")\n",
    "\n",
    "\n",
    "\n"
   ]
  },
  {
   "cell_type": "code",
   "execution_count": 5,
   "id": "87bdd6f4-bc7f-44b2-8dd7-218d78a5437e",
   "metadata": {
    "tags": []
   },
   "outputs": [],
   "source": [
    "torch.save(model.state_dict(), \"embedding_model\")"
   ]
  },
  {
   "cell_type": "code",
   "execution_count": 8,
   "id": "f3d7463e-6ccc-4042-ae90-636c10dcaec6",
   "metadata": {
    "tags": []
   },
   "outputs": [
    {
     "name": "stdout",
     "output_type": "stream",
     "text": [
      "tensor([[-0.8661, -1.8521,  0.0153, -0.2692, -1.5972, -1.1300, -0.3171, -1.6196,\n",
      "          0.9209, -0.1862,  0.7124, -0.2338,  0.6138, -1.5788,  1.1109, -0.1894,\n",
      "         -1.3766, -0.1649,  0.4087,  2.5591,  1.9314,  0.6390,  0.0225, -0.3324,\n",
      "          0.2382, -0.8647,  0.7637,  0.8638, -0.5354, -0.8867,  1.1967, -0.3811,\n",
      "          1.1656, -0.0634, -0.0229,  0.1177, -0.3202,  0.7285, -1.0219, -0.0105,\n",
      "         -1.9199,  2.0788, -0.2297,  0.2163, -1.2744, -0.2721, -0.3612,  0.6907,\n",
      "          0.0296,  1.4764,  1.1057, -0.3567,  0.4677,  0.5065, -1.9349, -0.3043,\n",
      "          1.2253,  0.2794, -0.1066, -0.1835, -0.6063,  1.0302,  0.9271, -0.4087,\n",
      "          0.4247,  1.1284, -0.8166,  1.1268, -1.1659,  0.6538,  1.1584, -1.0005,\n",
      "         -0.3316, -0.7803, -0.5708,  0.3823, -0.1890,  0.6133,  0.3005, -0.6336,\n",
      "         -0.8436, -0.1964, -0.4177,  0.3837, -0.0891, -0.9741,  1.9166,  0.4739,\n",
      "          0.7113,  0.4243,  1.3714,  1.3631, -0.2424,  0.4901, -0.8220,  1.9681,\n",
      "         -0.8166, -1.0336, -0.3288,  0.6132, -0.2976, -1.7750, -1.4920,  0.7794,\n",
      "         -0.6450, -0.6655, -1.1016, -0.7140,  0.3029, -1.0625,  0.8339,  1.7191,\n",
      "          0.8200,  2.2289, -0.0721, -0.2053,  1.3517, -0.0377, -1.2071,  0.4428,\n",
      "          0.2819,  1.5412,  0.6944, -0.1115, -2.4802,  0.9070, -0.3727,  0.0459,\n",
      "         -0.9608, -1.3013, -0.6075, -0.5779,  0.0132, -0.0828, -0.2002, -0.5663,\n",
      "          0.7320,  0.9211, -0.1486,  0.4438, -0.0576, -0.9892,  1.6216,  1.2042,\n",
      "          0.8825,  0.0448, -1.3413,  2.3544, -0.4062, -0.4683,  0.4251,  0.8161,\n",
      "          0.4933, -0.8810,  0.0468,  0.5107, -0.7603, -1.4160, -0.1058, -1.4907,\n",
      "          1.6530, -0.0182,  1.1259, -1.3399, -0.2050, -0.9958,  0.8129,  1.7390,\n",
      "          0.2572, -0.8755,  0.4544,  0.3242,  0.2035, -0.5202, -0.8050, -0.8722,\n",
      "          0.3485,  0.4488, -0.2180,  1.0115,  0.4836,  1.5437,  0.8979, -0.9762,\n",
      "         -0.2621, -1.2813,  1.6747, -0.7257, -2.4855, -0.7516, -0.4073, -1.8665,\n",
      "          0.7040, -1.5511,  1.6176,  0.2036,  1.5739, -1.2631,  0.5873, -0.4884,\n",
      "         -0.2403, -1.0645, -0.6721, -1.0173,  0.0220, -1.9886, -2.2056,  1.5753,\n",
      "         -0.5850,  0.7366, -0.3631,  0.9783, -0.0840,  0.3488,  0.1709,  1.7612,\n",
      "         -1.2543, -0.7616, -0.1410, -0.8210,  0.6053,  1.2559,  0.7375,  0.6939,\n",
      "          0.0048,  1.7488,  0.4227, -0.3071,  0.2855,  0.6691,  1.8082,  0.3758,\n",
      "          1.2085,  0.2699,  1.6313,  1.3435, -0.4119,  1.3320, -0.4088, -0.1200,\n",
      "         -1.6369,  0.5773, -0.6355, -0.8965,  0.4282, -0.7081,  1.1230, -0.5895,\n",
      "         -1.8440, -0.8891, -0.4185,  0.1055]], grad_fn=<EmbeddingBackward0>)\n"
     ]
    }
   ],
   "source": [
    "print(model.embeddings(torch.tensor([0])))"
   ]
  },
  {
   "cell_type": "code",
   "execution_count": 22,
   "id": "665631ae-ced6-46e4-98f6-fd8a159109f1",
   "metadata": {
    "tags": []
   },
   "outputs": [],
   "source": [
    "json.dump(model.tokens, open(\"tokens.txt\",'w'))"
   ]
  }
 ],
 "metadata": {
  "kernelspec": {
   "display_name": "Python 3 (ipykernel)",
   "language": "python",
   "name": "python3"
  },
  "language_info": {
   "codemirror_mode": {
    "name": "ipython",
    "version": 3
   },
   "file_extension": ".py",
   "mimetype": "text/x-python",
   "name": "python",
   "nbconvert_exporter": "python",
   "pygments_lexer": "ipython3",
   "version": "3.11.5"
  }
 },
 "nbformat": 4,
 "nbformat_minor": 5
}

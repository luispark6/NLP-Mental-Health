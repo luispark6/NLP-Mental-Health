{
 "cells": [
  {
   "cell_type": "code",
   "execution_count": 6,
   "id": "283a825a-8448-4e96-bb54-dfca2cd19aa8",
   "metadata": {
    "tags": []
   },
   "outputs": [],
   "source": [
    "import torch\n",
    "import numpy as np\n",
    "import torch.nn as nn\n",
    "import math\n",
    "import os\n",
    "import pandas as pd\n",
    "import torch.optim as optim\n",
    "import torch.nn.functional as F\n",
    "import json"
   ]
  },
  {
   "cell_type": "code",
   "execution_count": 8,
   "id": "e0fdea83-0b8e-4c0b-9507-b5ef6d1ae91e",
   "metadata": {
    "tags": []
   },
   "outputs": [],
   "source": [
    "class NGramLanguageModeler(nn.Module):\n",
    "\n",
    "    def __init__(self, vocab_size, embedding_dim, context_size):\n",
    "        super(NGramLanguageModeler, self).__init__()\n",
    "        #does not pass all input words with eachother. Each word goes through independantly\n",
    "        #and the output are the embeddings of the word. We want this because we do not \n",
    "        #want to concacenate the embeddings to the output nodes.\n",
    "        self.embedding_dim = embedding_dim\n",
    "        self.embeddings = nn.Embedding(vocab_size, embedding_dim) \n",
    "        #now takes in all embeddings of each word stretched out\n",
    "        self.linear1 = nn.Linear(context_size * embedding_dim, 128)\n",
    "        self.linear2 = nn.Linear(128, vocab_size)\n",
    "        self.tokens = {}\n",
    "\n",
    "    def forward(self, inputs):\n",
    "        #embeds will be flattened matrix\n",
    "        embeds = self.embeddings(inputs).view((1, -1))\n",
    "        #rectified relu to learn embeddings\n",
    "        out = F.relu(self.linear1(embeds))\n",
    "        out = self.linear2(out)\n",
    "        log_probs = F.log_softmax(out, dim=1)\n",
    "        #output is the log probablities of all vocabulary\n",
    "        return log_probs\n",
    "    def multiply_embedding_weights(self):\n",
    "        # Multiply the weights of the embedding layer by sqrt(embedding_dim)\n",
    "        self.embeddings.weight.data = self.embeddings.weight.data * (self.embedding_dim ** 0.5)\n",
    "    \n"
   ]
  },
  {
   "cell_type": "code",
   "execution_count": 9,
   "id": "63bfd991-fc29-40b4-9c10-531edb2081aa",
   "metadata": {
    "tags": []
   },
   "outputs": [
    {
     "name": "stdout",
     "output_type": "stream",
     "text": [
      "Dataset size: 3512\n",
      "Train Dataset size: 1100\n",
      "Total Dictionary Size: 10,489\n",
      "Training Dictionary Size: 4928\n",
      "Epoch: 0\n",
      "Total_Loss: 60804.26291155815\n",
      "Epoch: 1\n",
      "Total_Loss: 46571.5169621706\n",
      "Epoch: 2\n",
      "Total_Loss: 41252.384687781334\n",
      "Epoch: 3\n",
      "Total_Loss: 36316.487325042486\n",
      "Epoch: 4\n",
      "Total_Loss: 30948.29644267261\n",
      "Epoch: 5\n",
      "Total_Loss: 24833.90383963287\n",
      "Epoch: 6\n",
      "Total_Loss: 18685.234041979536\n",
      "Epoch: 7\n",
      "Total_Loss: 13621.824801164097\n",
      "Epoch: 8\n",
      "Total_Loss: 9793.968410769536\n",
      "Epoch: 9\n",
      "Total_Loss: 6935.741658010666\n",
      "Epoch: 10\n",
      "Total_Loss: 4771.109002284051\n",
      "Epoch: 11\n",
      "Total_Loss: 3156.6321763049145\n",
      "Epoch: 12\n",
      "Total_Loss: 1982.497338891295\n",
      "Epoch: 13\n",
      "Total_Loss: 1187.9729907933788\n",
      "Epoch: 14\n",
      "Total_Loss: 679.8280201242029\n",
      "Epoch: 15\n",
      "Total_Loss: 385.161126025614\n",
      "Epoch: 16\n",
      "Total_Loss: 229.17182286976077\n",
      "Epoch: 17\n",
      "Total_Loss: 161.37878057601776\n",
      "Epoch: 18\n",
      "Total_Loss: 112.5939684582404\n",
      "Epoch: 19\n",
      "Total_Loss: 106.8165105948903\n",
      "Epoch: 20\n",
      "Total_Loss: 89.95412244207483\n",
      "Epoch: 21\n",
      "Total_Loss: 84.07676995928219\n",
      "Epoch: 22\n",
      "Total_Loss: 98.39077126342104\n",
      "Epoch: 23\n",
      "Total_Loss: 74.49512421116066\n",
      "Epoch: 24\n",
      "Total_Loss: 78.65696912404843\n"
     ]
    }
   ],
   "source": [
    "#file path to credit card csv file\n",
    "file_path = os.path.join(os.path.expanduser(\"~\"), \"Downloads\", \"mental_health.csv\")\n",
    "orig_dataset = pd.read_csv(file_path) #read csv file as pandas object\n",
    "orig_dataset = orig_dataset.to_numpy()\n",
    "print(\"Dataset size: \"+ str(len(orig_dataset)))\n",
    "dataset = orig_dataset[np.random.choice(orig_dataset.shape[0], size=1100, replace=True)]\n",
    "print(\"Train Dataset size: \"+ str(len(dataset)))\n",
    "minFreq = {} #word must appear n times to be added to dictionary\n",
    "dictionary = {} #relevant words in the dicationary\n",
    "index = 5\n",
    "for example in range(len(dataset)):\n",
    "    for cont_response in range(2):\n",
    "        if type(dataset[example][cont_response]) == float: #NaN values\n",
    "            continue\n",
    "        for word in dataset[example][cont_response].split():\n",
    "            if word not in minFreq:\n",
    "                minFreq[word]=1\n",
    "            else:\n",
    "                if minFreq[word]==3: #word needs to appear\n",
    "                    dictionary[word] = index\n",
    "                    index+=1\n",
    "                minFreq[word]+=1\n",
    "\n",
    "print( \"Total Dictionary Size: 10,489\")\n",
    "print(\"Training Dictionary Size: \" + str(index))\n",
    "\n",
    "CONTEXT_SIZE = 3 #look 3 words back to predict current word\n",
    "EMBEDDING_DIM = 252 #total embeddings for each word\n",
    "all_ngrams = [] #ngram setup -> [(['through', 'going', \"I'm\"], 'some')]\n",
    "for example in range(len(dataset)): \n",
    "    for cont_response in range(2): #context than response\n",
    "        if type(dataset[example][cont_response]) == float: #NaN values\n",
    "            continue\n",
    "        cur_Sentence = dataset[example][cont_response].split() #seperate by word\n",
    "        ngrams = [ #[(['through', 'going', \"I'm\"], 'some')]\n",
    "            ([cur_Sentence[i - j - 1] for j in range(CONTEXT_SIZE)],cur_Sentence[i])\n",
    "            for i in range(CONTEXT_SIZE, len(cur_Sentence))\n",
    "            ]\n",
    "        #append the grams to all_ngrams\n",
    "        for i in ngrams:\n",
    "            all_ngrams.append(i) \n",
    "loss_function = nn.NLLLoss() #loss layer\n",
    "model = NGramLanguageModeler(index, EMBEDDING_DIM, CONTEXT_SIZE) #intialize Ngram model\n",
    "optimizer = optim.Adam(model.parameters(), lr=0.0001)\n",
    "model.tokens = dictionary\n",
    "for epoch in range(25):\n",
    "    total_loss = 0\n",
    "    print(\"Epoch: \"+ str(epoch))\n",
    "    maxFreq = 3 #max number of times a word can be trained\n",
    "    #dictionary to keep track of times word is trained. Will skip if words have been trained maxFreq times\n",
    "    maxFreqDict = {}\n",
    "    for context, target in all_ngrams:\n",
    "        #if unknown word, just don't train\n",
    "        if context[0] not in dictionary or context[1] not in dictionary or context[2] not in dictionary:\n",
    "                continue\n",
    "        if target not in dictionary:\n",
    "                continue\n",
    "        #add context words if not found in dict\n",
    "        if context[0] not in maxFreqDict:\n",
    "            maxFreqDict[context[0]] = 1\n",
    "        if context[1] not in maxFreqDict:\n",
    "            maxFreqDict[context[1]] = 1\n",
    "        #if both words have been trained equal to or more than maxFreq times, continue\n",
    "        #already has been trained enough\n",
    "        if maxFreqDict[context[0]] >= maxFreq and maxFreqDict[context[1]] >= maxFreq:\n",
    "            continue\n",
    "        #update how many times the context words have been trained\n",
    "        maxFreqDict[context[0]]+=1\n",
    "        maxFreqDict[context[1]]+=1\n",
    "            \n",
    "        #turn each word to an integer and wrapped in tensor so pass as an input to the model\n",
    "        context_idxs = torch.tensor([dictionary[w] for w in context], dtype=torch.long)\n",
    "\n",
    "        #zero out gradients cause it accumulates\n",
    "        model.zero_grad()\n",
    "\n",
    "        # Step 3. Run the forward pass, getting log probabilities over next\n",
    "        # words\n",
    "        log_probs = model(context_idxs)\n",
    "        \n",
    "        \n",
    "            \n",
    "\n",
    "        #apply the loss function to the log probabilties with the correct target word\n",
    "        loss = loss_function(log_probs, torch.tensor([dictionary[target]], dtype=torch.long))\n",
    "\n",
    "        # Step 5. Do the backward pass and update the gradient\n",
    "        loss.backward()\n",
    "        optimizer.step()\n",
    "        # Get the Python number from a 1-element Tensor by calling tensor.item()\n",
    "        total_loss += loss.item()\n",
    "    print(f\"Total_Loss: {total_loss}\")\n",
    "\n",
    "\n",
    "\n"
   ]
  },
  {
   "cell_type": "code",
   "execution_count": 10,
   "id": "87bdd6f4-bc7f-44b2-8dd7-218d78a5437e",
   "metadata": {
    "tags": []
   },
   "outputs": [],
   "source": [
    "model.multiply_embedding_weights()\n",
    "torch.save(model.state_dict(), \"embedding_model\")"
   ]
  },
  {
   "cell_type": "code",
   "execution_count": 11,
   "id": "f3d7463e-6ccc-4042-ae90-636c10dcaec6",
   "metadata": {
    "tags": []
   },
   "outputs": [
    {
     "name": "stdout",
     "output_type": "stream",
     "text": [
      "tensor([[-27.3289,   0.5755,   7.6977,  -1.7063,  11.6704, -16.0344, -13.8994,\n",
      "          -5.5939,  23.0890,  -4.3854,  -8.6859,  10.1936,  24.3662, -28.8604,\n",
      "         -10.1478, -15.4639, -33.8165, -29.0961, -15.7963,   4.3913, -10.6751,\n",
      "          -5.4325,  -1.3452, -46.0790,  40.6227,   8.9821,  -8.2570,  -4.0520,\n",
      "          -2.2921, -19.6806,  20.7959,  17.1168,  13.2371,  -6.3065, -14.8282,\n",
      "          -6.2137,   1.8696,  25.3100,   1.8748,  -5.2926,  11.0353,  10.8461,\n",
      "          -9.0835,  -9.5109,   4.8956,  11.1274, -32.6840, -25.0068,   3.6075,\n",
      "          -4.2316, -31.4773, -15.6223,  13.5155,  -9.6214, -46.1658,  -3.8901,\n",
      "          25.2988,  -2.0704,  13.7544, -32.0602,  -5.4711,  -6.2360,  -0.6747,\n",
      "         -14.0538,   0.8529,  12.0244,  34.4057,  -2.3645,  11.3389,   3.8502,\n",
      "          -0.3880,  14.1577,  15.6571,   1.5358,  -1.1155,  -5.0325,   2.5739,\n",
      "          -3.1278,  14.8901,  15.7941,  19.9152,   4.4657,  27.4171,  12.8808,\n",
      "           5.6889,   5.4184, -10.4300,  10.7177,   9.2347, -19.8214,  -5.0721,\n",
      "          12.1199,   7.0368,   3.2598,  18.9480,   1.3039,  13.6849, -12.7381,\n",
      "          -9.9445,   5.6234, -18.6196, -11.7445,   8.0713, -16.1013,   6.0403,\n",
      "          14.2638,  23.0508,  13.2208,  -8.1905,  -0.8476,  15.6956, -11.8326,\n",
      "         -24.3290,   8.5115,   4.9052, -24.1249,   6.9230,  20.4213,   4.1819,\n",
      "          29.9562,   3.6696,  -0.1411,  -0.1007,  22.7975, -20.2660, -14.1050,\n",
      "         -19.0713, -22.0953, -19.5927,   6.2763, -30.1219, -19.2937,  44.7706,\n",
      "          25.6000,  22.1675, -29.2930,  -2.7346,  -3.4416,  -5.1301,  -1.5462,\n",
      "         -33.7653, -18.2661,  19.9216, -36.7882,  -7.0953,   3.1845,  -4.1410,\n",
      "          -2.3792,  13.6013,  13.3258,   4.5690,  -9.3586,   7.8694,   2.7397,\n",
      "          -7.6597,  24.7637,  -5.1077,   1.2689,  27.9641,  19.2072,  -7.8156,\n",
      "         -27.0865, -15.9877,  -0.7460, -13.0699,  -3.3085, -13.2278, -14.1908,\n",
      "          -2.4909,  26.7663, -10.3620,  -2.2131, -14.9372,  -0.2627,  10.5170,\n",
      "          16.1916, -10.2935,  33.0164,  13.9333,   4.0142, -11.1900,  18.8919,\n",
      "           6.1980,   8.2655,  -9.6167,   4.3411, -16.8982,  -3.5859,   7.0150,\n",
      "           0.1140,   2.2152,   7.9691,  -5.5870,   6.4571,  13.0311,  -1.8810,\n",
      "          -8.7489,  28.9119,  12.5364, -11.7786, -12.6795, -17.4474,  -1.8753,\n",
      "           0.3644, -12.0099,  10.5288,  -6.7368,  16.8278, -24.1257, -20.6118,\n",
      "         -24.8713,  -2.3118,  -4.5003,  27.2479,  20.0544, -14.4488,  32.0507,\n",
      "          -4.6161, -12.9276,  -1.7654,   6.6837,   2.2645,  12.6414,  -5.8620,\n",
      "           4.2139,  16.9244,  20.0207, -23.8099, -19.6057,  10.9208,   6.2321,\n",
      "          -6.2978,  25.0758,  12.9984,  -3.3280,  -0.9529,   0.3103,   0.6286,\n",
      "          18.0383,  15.8558, -14.1447, -31.4643,  -5.7773,  -6.9185,  -7.9769,\n",
      "         -18.1364,   2.8495,   0.9376,  17.4529,  17.1137,  29.6456,  17.2282]],\n",
      "       grad_fn=<EmbeddingBackward0>)\n"
     ]
    }
   ],
   "source": [
    "print(model.embeddings(torch.tensor([0])))"
   ]
  },
  {
   "cell_type": "code",
   "execution_count": 12,
   "id": "665631ae-ced6-46e4-98f6-fd8a159109f1",
   "metadata": {
    "tags": []
   },
   "outputs": [],
   "source": [
    "json.dump(model.tokens, open(\"tokens.txt\",'w'))"
   ]
  },
  {
   "cell_type": "code",
   "execution_count": 13,
   "id": "86d4e476-c226-4b98-8e6e-f09f02ca27d4",
   "metadata": {
    "tags": []
   },
   "outputs": [
    {
     "name": "stdout",
     "output_type": "stream",
     "text": [
      "55.18080865603645\n",
      "177.001993166287\n"
     ]
    }
   ],
   "source": [
    "import torch\n",
    "import numpy as np\n",
    "import torch.nn as nn\n",
    "import math\n",
    "import os\n",
    "import pandas as pd\n",
    "import torch.optim as optim\n",
    "import torch.nn.functional as F\n",
    "import json\n",
    "\n",
    "\n",
    "avg_res = 0\n",
    "avg_cont = 0\n",
    "t =0\n",
    "\n",
    "#file path to credit card csv file\n",
    "file_path = os.path.join(os.path.expanduser(\"~\"), \"Downloads\", \"mental_health.csv\")\n",
    "orig_dataset = pd.read_csv(file_path) #read csv file as pandas object\n",
    "orig_dataset =  orig_dataset.to_numpy()\n",
    "orig_dataset = orig_dataset.tolist()\n",
    "for example in orig_dataset:\n",
    "    acc =0 \n",
    "    for r_c in example:\n",
    "        if type(r_c) is float:\n",
    "            continue\n",
    "        if acc ==0: \n",
    "            avg_cont+=len(r_c.split())\n",
    "        else:\n",
    "            avg_res+=len(r_c.split())\n",
    "        acc+=1\n",
    "    t+=1\n",
    "print(avg_cont/t)\n",
    "print(avg_res/t)"
   ]
  },
  {
   "cell_type": "code",
   "execution_count": 20,
   "id": "9d106792-36c6-4c23-8c79-439adabcf3d3",
   "metadata": {},
   "outputs": [
    {
     "name": "stdout",
     "output_type": "stream",
     "text": [
      "tensor([[[-27.3289,   0.5755,   7.6977,  ...,  17.1137,  29.6456,  17.2282],\n",
      "         [ 23.5205, -11.8251,  29.4079,  ...,  17.7192,  30.1897,  -5.7672],\n",
      "         [ 24.2609,  -7.0546,  35.6735,  ...,   0.6122,  20.7054, -10.9875]],\n",
      "\n",
      "        [[-15.3078,  10.3470,  -1.2072,  ...,  17.9329,  29.8563,   1.9362],\n",
      "         [ -8.6659,  32.9308,  14.1453,  ...,   9.8485,   2.1125,  25.9361],\n",
      "         [-13.5282,  14.8692,  17.1939,  ...,  -3.0535,  -4.0513, -18.2470]]],\n",
      "       grad_fn=<EmbeddingBackward0>)\n"
     ]
    }
   ],
   "source": [
    "print(model.embeddings(torch.tensor([[0, 1, 2], [3,4,5]])))\n"
   ]
  },
  {
   "cell_type": "code",
   "execution_count": null,
   "id": "e460f036-8936-4bb1-b31d-9a4028e234fc",
   "metadata": {},
   "outputs": [],
   "source": []
  }
 ],
 "metadata": {
  "kernelspec": {
   "display_name": "Python 3 (ipykernel)",
   "language": "python",
   "name": "python3"
  },
  "language_info": {
   "codemirror_mode": {
    "name": "ipython",
    "version": 3
   },
   "file_extension": ".py",
   "mimetype": "text/x-python",
   "name": "python",
   "nbconvert_exporter": "python",
   "pygments_lexer": "ipython3",
   "version": "3.11.5"
  }
 },
 "nbformat": 4,
 "nbformat_minor": 5
}
